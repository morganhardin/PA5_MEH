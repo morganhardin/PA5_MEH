{
 "cells": [
  {
   "cell_type": "markdown",
   "id": "5eb56d8a-4641-465d-bb79-3da2fef798e2",
   "metadata": {},
   "source": [
    "## Programming Assignment 5\n",
    "---\n",
    "**Author:** Morgan Hardin  \n",
    "**Version:** 1.0  \n",
    "**Semester:** Spring 2024 \n",
    "\n",
    "This *notebook* contains my solution(s) to **Programming Assignment 5**\n",
    "\n",
    "- Problem 1: Language Translator\n",
    "- Problem 2: Translating Morse Code\n",
    "- Problem 3: Comparing Minors / Majors\n",
    "- Problem 4: Working with NumPy"
   ]
  },
  {
   "cell_type": "markdown",
   "id": "3b8dfd1e-c5bc-4e47-a196-64d60b46954b",
   "metadata": {},
   "source": [
    "### Importing Libraries"
   ]
  },
  {
   "cell_type": "code",
   "execution_count": 1,
   "id": "9ecd01a6-f185-4222-a3b2-2608bae5aa23",
   "metadata": {},
   "outputs": [],
   "source": [
    "import numpy as np"
   ]
  },
  {
   "cell_type": "markdown",
   "id": "7bfcb44b-1d0c-4233-8f6e-c1d7a1ddc418",
   "metadata": {},
   "source": [
    "### Language Translator"
   ]
  },
  {
   "cell_type": "code",
   "execution_count": 2,
   "id": "2565ec5c-f87a-4828-a895-947454777406",
   "metadata": {},
   "outputs": [
    {
     "name": "stdin",
     "output_type": "stream",
     "text": [
      "Enter a word to translate from English to Spanish (Enter Q to Stop):  car\n"
     ]
    },
    {
     "name": "stdout",
     "output_type": "stream",
     "text": [
      "The Spanish word for car is coche.\n"
     ]
    },
    {
     "name": "stdin",
     "output_type": "stream",
     "text": [
      "Enter a word to translate from English to Spanish (Enter Q to Stop):  yes\n"
     ]
    },
    {
     "name": "stdout",
     "output_type": "stream",
     "text": [
      "The Spanish word for yes is not in this dictionary.\n"
     ]
    },
    {
     "name": "stdin",
     "output_type": "stream",
     "text": [
      "Enter a word to translate from English to Spanish (Enter Q to Stop):  Q\n"
     ]
    }
   ],
   "source": [
    "d_EtoS = {\n",
    "    \"hello\": \"hola\",\n",
    "    \"cat\": \"gato\",\n",
    "    \"dog\": \"perro\",\n",
    "    \"book\": \"libro\",\n",
    "    \"bed\": \"cama\",\n",
    "    \"house\": \"casa\",\n",
    "    \"car\": \"coche\",\n",
    "    \"friend\": \"amigo\",\n",
    "    \"teacher\": \"maestro\",\n",
    "    \"apple\": \"manzana\",\n",
    "    \"cheese\": \"queso\",\n",
    "    \"bread\": \"pan\",\n",
    "    \"milk\": \"leche\",\n",
    "    \"red\": \"rojo\",\n",
    "    \"green\": \"verde\", \n",
    "    \"ball\": \"pelota\",\n",
    "    \"beach\": \"playa\",\n",
    "    \"tiger\": \"tigre\",\n",
    "    \"computer\": \"computadora\",\n",
    "    \"backpack\": \"mochila\"\n",
    "}\n",
    "answer = input(\"Enter a word to translate from English to Spanish (Enter Q to Stop): \")\n",
    "while (answer != \"Q\"):\n",
    "    if answer in d_EtoS.keys():\n",
    "        print(f\"The Spanish word for {answer} is {d_EtoS[answer]}.\")\n",
    "    else:\n",
    "        print(f\"The Spanish word for {answer} is not in this dictionary.\")\n",
    "    answer = input(\"Enter a word to translate from English to Spanish (Enter Q to Stop): \")"
   ]
  },
  {
   "cell_type": "markdown",
   "id": "c09c5923-3f64-42fa-b48d-7fd52a7f0d17",
   "metadata": {},
   "source": [
    "### Translating Morse Code"
   ]
  },
  {
   "cell_type": "code",
   "execution_count": 3,
   "id": "a23b71a0-e9a1-4be7-a48a-1bbeb2905283",
   "metadata": {},
   "outputs": [],
   "source": [
    "d_MC = {\n",
    "    \"A\": \".-\", \"B\": \"-...\", \"C\": \"-.-.\", \"D\": \"-..\", \"E\": \".\", \"F\": \"..-.\",\n",
    "    \"G\": \"--.\", \"H\": \"....\", \"I\": \"..\", \"J\": \".---\", \"K\": \"-.-\", \"L\": \".-..\",\n",
    "    \"M\": \"--\", \"N\": \"-.\", \"O\": \"---\", \"P\": \".--.\", \"Q\": \"--.-\", \"R\": \".-.\",\n",
    "    \"S\": \"...\", \"T\": \"-\", \"U\": \"..-\", \"V\": \"...-\", \"W\": \".--\", \"X\": \"-..-\",\n",
    "    \"Y\": \"-.--\", \"Z\": \"--..\", \"0\": \"-----\", \"1\": \".----\", \"2\": \"..---\",\n",
    "    \"3\": \"...--\", \"4\": \"....-\", \"5\": \".....\", \"6\": \"-....\", \"7\": \"--...\",\n",
    "    \"8\": \"---..\", \"9\": \"----.\", \" \": \" \"\n",
    "}"
   ]
  },
  {
   "cell_type": "code",
   "execution_count": 4,
   "id": "36086890-3fd9-4323-a3cd-47521d95a372",
   "metadata": {},
   "outputs": [],
   "source": [
    "def translate_mc(phrase):\n",
    "    split = [*phrase]\n",
    "    for char in split:\n",
    "        if char in d_MC.keys():\n",
    "            print(d_MC[char], end = \"\")"
   ]
  },
  {
   "cell_type": "code",
   "execution_count": 5,
   "id": "ad4eba5e-aac6-45aa-a0ae-6f7780d8e882",
   "metadata": {},
   "outputs": [
    {
     "name": "stdin",
     "output_type": "stream",
     "text": [
      "Enter a phrase in all caps to translate to Morse Code (Enter q to Stop):  HELLO MISTER\n"
     ]
    },
    {
     "name": "stdout",
     "output_type": "stream",
     "text": [
      "......-...-..--- --.....-..-."
     ]
    },
    {
     "name": "stdin",
     "output_type": "stream",
     "text": [
      "Enter a phrase in all caps to translate to Morse Code (Enter q to Stop):  q\n"
     ]
    }
   ],
   "source": [
    "answer = input(\"Enter a phrase in all caps to translate to Morse Code (Enter q to Stop): \")\n",
    "while (answer != \"q\"):\n",
    "    translate_mc(answer)\n",
    "    answer = input(\"Enter a phrase in all caps to translate to Morse Code (Enter q to Stop): \")"
   ]
  },
  {
   "cell_type": "markdown",
   "id": "4c51d1ca-fdde-4a3d-8249-14cf0811e5f4",
   "metadata": {},
   "source": [
    "### Comparing Minors / Majors"
   ]
  },
  {
   "cell_type": "code",
   "execution_count": 6,
   "id": "3171b5c8-a5bd-4f2b-ae95-b7cb18ad58fb",
   "metadata": {},
   "outputs": [],
   "source": [
    "CS_Minor = {\"CS 130\", \"CS 131\", \"CS 215\", \"CS 310\", \"CS 330\", \"CS 415\"}\n",
    "BUAD_Minor = {\"BUSA 103\", \"BUSA 203\", \"BUSA 301\", \"BUSA 305\", \"ACCT 101\", \n",
    "              \"ECON 110\", \"FINA 315\", \"MATH 117\"}\n",
    "BUAN_Minor = {\"BUSA 103\", \"BUSA 245\", \"BUSA 346\", \"CS 150\", \"DS 160\", \n",
    "              \"DS 300\", \"MATH 117\", \"MATH 205\"}\n",
    "DS_Major = {\"BUSA 103\", \"BUSA 245\", \"BUSA 346\", \"CS 150\", \"DS 160\", \n",
    "            \"DS 300\", \"DS 450\", \"MATH 117\", \"MATH 205\", \"MATH 215\", \n",
    "            \"MATH 430\", \"ECON 110\", \"ECON 111\", \"ECON 410\", \"DS 444\"}"
   ]
  },
  {
   "cell_type": "code",
   "execution_count": 7,
   "id": "5816184e-d640-45d1-9214-61f8e39c3d57",
   "metadata": {},
   "outputs": [
    {
     "name": "stdout",
     "output_type": "stream",
     "text": [
      "Businessness Administration and Business Analytics Minors Course Overlaps: \n",
      "{'BUSA 103', 'MATH 117'}\n"
     ]
    }
   ],
   "source": [
    "# if a student minors in business administration and business analytics,\n",
    "# what courses overlap?\n",
    "\n",
    "print(\"Businessness Administration and Business Analytics Minors Course Overlaps: \")\n",
    "print(BUAD_Minor & BUAN_Minor)\n",
    "\n",
    "# answer: BUSA 103 and MATH 117 overlap between the two minors."
   ]
  },
  {
   "cell_type": "code",
   "execution_count": 8,
   "id": "e348b1dc-baa8-40df-9c0c-a4b1724e865f",
   "metadata": {},
   "outputs": [
    {
     "name": "stdout",
     "output_type": "stream",
     "text": [
      "All of the courses they would have to take are: \n",
      "['ACCT 101', 'BUSA 103', 'BUSA 203', 'BUSA 301', 'BUSA 305', 'CS 130', 'CS 131', 'CS 215', 'CS 310', 'CS 330', 'CS 415', 'ECON 110', 'FINA 315', 'MATH 117']\n"
     ]
    }
   ],
   "source": [
    "# if a student minors in business administration and computer science,\n",
    "# get a list of all the courses they would have to take.\n",
    "\n",
    "print(\"All of the courses they would have to take are: \")\n",
    "print(sorted(BUAD_Minor | CS_Minor))\n",
    "\n",
    "# answer: all of the courses they would have to take are: ACCT 101,\n",
    "# BUSA 103, BUSA 203, BUSA 301, BUSA 305, CS 130, CS 131, CS 215, \n",
    "# CS 310, CS 330, CS 415, ECON 110, FINA 315, MATH 217."
   ]
  },
  {
   "cell_type": "code",
   "execution_count": 9,
   "id": "578db29b-1b0c-40f6-928f-7c2247cf3500",
   "metadata": {},
   "outputs": [
    {
     "name": "stdout",
     "output_type": "stream",
     "text": [
      "Courses in Business Administration Minor but not Business Analytics Minor: \n",
      "['ACCT 101', 'BUSA 203', 'BUSA 301', 'BUSA 305', 'ECON 110', 'FINA 315']\n"
     ]
    }
   ],
   "source": [
    "# find a list of courses that are in the business administration minor\n",
    "# but are not in the business analytics minor.\n",
    "\n",
    "print(\"Courses in Business Administration Minor but not Business Analytics Minor: \")\n",
    "print(sorted(BUAD_Minor - BUAN_Minor))\n",
    "\n",
    "# answer: all of the courses in the business administration minor\n",
    "# but not in the business analytics minor are: ACCT 101. BUSA 203, \n",
    "# BUSA 301, BUSA 305, ECON 110, and FINA 315."
   ]
  },
  {
   "cell_type": "code",
   "execution_count": 10,
   "id": "1cdd269c-7edb-44d1-a53e-9ee4e4133ebc",
   "metadata": {},
   "outputs": [
    {
     "name": "stdout",
     "output_type": "stream",
     "text": [
      "Shared courses between CS Minor and DS Major: \n",
      "[]\n"
     ]
    }
   ],
   "source": [
    "# verify that there are no overlapping courses between the computer\n",
    "# science minor and the data science major.\n",
    "\n",
    "print(\"Shared courses between CS Minor and DS Major: \")\n",
    "print(sorted(CS_Minor & DS_Major))\n",
    "\n",
    "# answer: this shows an empty set, meaning that there is no overlap."
   ]
  },
  {
   "cell_type": "code",
   "execution_count": 11,
   "id": "7284f7aa-8f4d-4bcf-941d-eb26c0717789",
   "metadata": {},
   "outputs": [
    {
     "name": "stdout",
     "output_type": "stream",
     "text": [
      "Business Analytics Minor subsumed by DS Major: \n",
      "['BUSA 103', 'BUSA 245', 'BUSA 346', 'CS 150', 'DS 160', 'DS 300', 'MATH 117', 'MATH 205']\n",
      "['BUSA 103', 'BUSA 245', 'BUSA 346', 'CS 150', 'DS 160', 'DS 300', 'MATH 117', 'MATH 205']\n"
     ]
    }
   ],
   "source": [
    "# verify that the business analytics minor is completely subsumed \n",
    "# by the data science major.\n",
    "\n",
    "print(\"Business Analytics Minor subsumed by DS Major: \")\n",
    "print(sorted(BUAN_Minor))\n",
    "print(sorted(BUAN_Minor & DS_Major))\n",
    "\n",
    "# answer: this shows that both the business analytics minor and ds\n",
    "# major both consists of the same classes and that the business \n",
    "# analytics minor is subsumed by the ds major"
   ]
  },
  {
   "cell_type": "markdown",
   "id": "39edcd09-f396-46c3-afd5-2eb9be335126",
   "metadata": {},
   "source": [
    "### Working with NumPy"
   ]
  },
  {
   "cell_type": "code",
   "execution_count": 12,
   "id": "ce8b6f12-2467-4c8f-99ed-0c9963d9a6a3",
   "metadata": {},
   "outputs": [],
   "source": [
    "A = np.random.randint(0, 21, size = (5, 5))\n",
    "B = np.random.randint(0, 21, size = (5, 5))"
   ]
  },
  {
   "cell_type": "code",
   "execution_count": 13,
   "id": "f88d32ce-4823-4541-83ef-f5c716cd26f7",
   "metadata": {},
   "outputs": [
    {
     "data": {
      "text/plain": [
       "array([[18,  8, 10,  5, 11],\n",
       "       [15,  6, 18, 14,  6],\n",
       "       [ 5,  2, 18, 18, 12],\n",
       "       [ 0, 18,  0, 10, 19],\n",
       "       [17,  3,  7, 19, 13]])"
      ]
     },
     "execution_count": 13,
     "metadata": {},
     "output_type": "execute_result"
    }
   ],
   "source": [
    "A"
   ]
  },
  {
   "cell_type": "code",
   "execution_count": 14,
   "id": "f2f3f0c3-52fa-4ecf-86df-63b2ce43037d",
   "metadata": {},
   "outputs": [
    {
     "data": {
      "text/plain": [
       "array([[13, 10,  2, 18,  7],\n",
       "       [13, 15, 18,  2,  5],\n",
       "       [14,  3,  3,  5, 10],\n",
       "       [ 1,  1, 13,  0,  6],\n",
       "       [19,  6, 20,  3, 10]])"
      ]
     },
     "execution_count": 14,
     "metadata": {},
     "output_type": "execute_result"
    }
   ],
   "source": [
    "B"
   ]
  },
  {
   "cell_type": "code",
   "execution_count": 15,
   "id": "2a28afad-2163-4b8d-852d-1716b3131b09",
   "metadata": {},
   "outputs": [
    {
     "name": "stdout",
     "output_type": "stream",
     "text": [
      "The dot product is: \n"
     ]
    },
    {
     "data": {
      "text/plain": [
       "array([[692, 401, 495, 423, 406],\n",
       "       [653, 344, 494, 390, 459],\n",
       "       [589, 224, 574, 220, 453],\n",
       "       [605, 394, 834,  93, 340],\n",
       "       [624, 333, 616, 386, 448]])"
      ]
     },
     "execution_count": 15,
     "metadata": {},
     "output_type": "execute_result"
    }
   ],
   "source": [
    "# dot product\n",
    "dot_product = np.dot(A, B)\n",
    "print(\"The dot product is: \")\n",
    "dot_product"
   ]
  },
  {
   "cell_type": "code",
   "execution_count": 16,
   "id": "a0bf2988-28ac-4a6b-ac89-725a4f13bd19",
   "metadata": {},
   "outputs": [
    {
     "name": "stdout",
     "output_type": "stream",
     "text": [
      "The determinant is: \n"
     ]
    },
    {
     "data": {
      "text/plain": [
       "-778736.0000000008"
      ]
     },
     "execution_count": 16,
     "metadata": {},
     "output_type": "execute_result"
    }
   ],
   "source": [
    "# determinant of A\n",
    "determinant_A = np.linalg.det(A)\n",
    "print(\"The determinant is: \")\n",
    "determinant_A"
   ]
  },
  {
   "cell_type": "code",
   "execution_count": 17,
   "id": "596fb850-3aa5-4034-8089-59edb0188960",
   "metadata": {},
   "outputs": [
    {
     "name": "stdout",
     "output_type": "stream",
     "text": [
      "The determinant is: \n"
     ]
    },
    {
     "data": {
      "text/plain": [
       "-245316.00000000003"
      ]
     },
     "execution_count": 17,
     "metadata": {},
     "output_type": "execute_result"
    }
   ],
   "source": [
    "# determinant of B\n",
    "determinant_B = np.linalg.det(B)\n",
    "print(\"The determinant is: \")\n",
    "determinant_B"
   ]
  },
  {
   "cell_type": "code",
   "execution_count": 18,
   "id": "2193b774-79e7-469d-9117-9e004284090c",
   "metadata": {},
   "outputs": [
    {
     "name": "stdout",
     "output_type": "stream",
     "text": [
      "The inverse is: \n"
     ]
    },
    {
     "data": {
      "text/plain": [
       "array([[ 0.03028497,  0.00882969, -0.03729634, -0.01724846,  0.02993569],\n",
       "       [-0.0390068 ,  0.09904127, -0.06712544,  0.05172741, -0.02634526],\n",
       "       [ 0.02902139,  0.01253185,  0.04872383, -0.01313667, -0.05611658],\n",
       "       [-0.08894414,  0.05632718, -0.02733661,  0.01503976,  0.05251587],\n",
       "       [ 0.08376651, -0.12347445,  0.07798021, -0.004289  , -0.00268127]])"
      ]
     },
     "execution_count": 18,
     "metadata": {},
     "output_type": "execute_result"
    }
   ],
   "source": [
    "# inverse of A\n",
    "inverse_A = np.linalg.inv(A)\n",
    "print(\"The inverse is: \")\n",
    "inverse_A"
   ]
  },
  {
   "cell_type": "code",
   "execution_count": 19,
   "id": "7d82f1dc-cabe-4f06-a4f4-13b4aa989b45",
   "metadata": {},
   "outputs": [
    {
     "name": "stdout",
     "output_type": "stream",
     "text": [
      "The inverse is: \n"
     ]
    },
    {
     "data": {
      "text/plain": [
       "array([[-0.00957133, -0.01864534, -0.00780626, -0.09839962,  0.08286863],\n",
       "       [-0.00934305,  0.10360515,  0.05583818,  0.00829135, -0.10607543],\n",
       "       [ 0.01343573, -0.01897145, -0.07549854,  0.02952518,  0.05786414],\n",
       "       [ 0.07626082, -0.05246295, -0.07749596,  0.01740204,  0.03990363],\n",
       "       [-0.02595836,  0.02694484,  0.15557485,  0.11771348, -0.12150451]])"
      ]
     },
     "execution_count": 19,
     "metadata": {},
     "output_type": "execute_result"
    }
   ],
   "source": [
    "# inverse of B\n",
    "inverse_B = np.linalg.inv(B)\n",
    "print(\"The inverse is: \")\n",
    "inverse_B"
   ]
  },
  {
   "cell_type": "code",
   "execution_count": 20,
   "id": "ee2eff65-d40e-4ff2-86b6-8e88c39810e8",
   "metadata": {},
   "outputs": [
    {
     "data": {
      "text/plain": [
       "array([0.        , 0.05263158, 0.10526316, 0.15789474, 0.21052632,\n",
       "       0.26315789, 0.31578947, 0.36842105, 0.42105263, 0.47368421,\n",
       "       0.52631579, 0.57894737, 0.63157895, 0.68421053, 0.73684211,\n",
       "       0.78947368, 0.84210526, 0.89473684, 0.94736842, 1.        ])"
      ]
     },
     "execution_count": 20,
     "metadata": {},
     "output_type": "execute_result"
    }
   ],
   "source": [
    "# 1D array: 20 evenly spaced from 0 to 1\n",
    "C = np.linspace(0, 1, num = 20)\n",
    "C"
   ]
  },
  {
   "cell_type": "code",
   "execution_count": 21,
   "id": "ea1e8463-30d5-41e9-914d-a85133b604b4",
   "metadata": {},
   "outputs": [
    {
     "data": {
      "text/plain": [
       "array([1.        , 1.05263158, 1.10526316, 1.15789474, 1.21052632,\n",
       "       1.26315789, 1.31578947, 1.36842105, 1.42105263, 1.47368421,\n",
       "       1.52631579, 1.57894737, 1.63157895, 1.68421053, 1.73684211,\n",
       "       1.78947368, 1.84210526, 1.89473684, 1.94736842, 2.        ])"
      ]
     },
     "execution_count": 21,
     "metadata": {},
     "output_type": "execute_result"
    }
   ],
   "source": [
    "# 1D array: 20 evenly spaced from 0 to 1\n",
    "D = np.linspace(1, 2, num = 20)\n",
    "D"
   ]
  },
  {
   "cell_type": "code",
   "execution_count": 22,
   "id": "122113f4-5b71-45d7-a8bf-23c44fad8488",
   "metadata": {},
   "outputs": [
    {
     "data": {
      "text/plain": [
       "array([0.        , 0.05263158, 0.10526316, 0.15789474, 0.21052632,\n",
       "       0.26315789, 0.31578947, 0.36842105, 0.42105263, 0.47368421,\n",
       "       0.52631579, 0.57894737, 0.63157895, 0.68421053, 0.73684211,\n",
       "       0.78947368, 0.84210526, 0.89473684, 0.94736842, 1.        ,\n",
       "       1.        , 1.05263158, 1.10526316, 1.15789474, 1.21052632,\n",
       "       1.26315789, 1.31578947, 1.36842105, 1.42105263, 1.47368421,\n",
       "       1.52631579, 1.57894737, 1.63157895, 1.68421053, 1.73684211,\n",
       "       1.78947368, 1.84210526, 1.89473684, 1.94736842, 2.        ])"
      ]
     },
     "execution_count": 22,
     "metadata": {},
     "output_type": "execute_result"
    }
   ],
   "source": [
    "# concatenate arrays C and D\n",
    "CD = np.hstack((C, D))\n",
    "CD"
   ]
  },
  {
   "cell_type": "code",
   "execution_count": 23,
   "id": "24a10871-ff16-4f78-b81f-4b023eedf48f",
   "metadata": {},
   "outputs": [
    {
     "data": {
      "text/plain": [
       "array([[0.        , 0.05263158, 0.10526316, 0.15789474],\n",
       "       [0.21052632, 0.26315789, 0.31578947, 0.36842105],\n",
       "       [0.42105263, 0.47368421, 0.52631579, 0.57894737],\n",
       "       [0.63157895, 0.68421053, 0.73684211, 0.78947368],\n",
       "       [0.84210526, 0.89473684, 0.94736842, 1.        ],\n",
       "       [1.        , 1.05263158, 1.10526316, 1.15789474],\n",
       "       [1.21052632, 1.26315789, 1.31578947, 1.36842105],\n",
       "       [1.42105263, 1.47368421, 1.52631579, 1.57894737],\n",
       "       [1.63157895, 1.68421053, 1.73684211, 1.78947368],\n",
       "       [1.84210526, 1.89473684, 1.94736842, 2.        ]])"
      ]
     },
     "execution_count": 23,
     "metadata": {},
     "output_type": "execute_result"
    }
   ],
   "source": [
    "# reshaping array CD into 2D array of (10, 4)\n",
    "CD_reshape = CD.reshape(10, 4)\n",
    "CD_reshape"
   ]
  }
 ],
 "metadata": {
  "kernelspec": {
   "display_name": "Python 3 (ipykernel)",
   "language": "python",
   "name": "python3"
  },
  "language_info": {
   "codemirror_mode": {
    "name": "ipython",
    "version": 3
   },
   "file_extension": ".py",
   "mimetype": "text/x-python",
   "name": "python",
   "nbconvert_exporter": "python",
   "pygments_lexer": "ipython3",
   "version": "3.9.12"
  }
 },
 "nbformat": 4,
 "nbformat_minor": 5
}
